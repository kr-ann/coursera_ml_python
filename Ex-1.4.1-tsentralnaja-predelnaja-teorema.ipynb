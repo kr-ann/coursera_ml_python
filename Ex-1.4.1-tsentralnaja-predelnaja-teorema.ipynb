{
 "cells": [
  {
   "cell_type": "markdown",
   "metadata": {},
   "source": [
    "Распредление Парето: https://ru.wikipedia.org/wiki/%D0%A0%D0%B0%D1%81%D0%BF%D1%80%D0%B5%D0%B4%D0%B5%D0%BB%D0%B5%D0%BD%D0%B8%D0%B5_%D0%9F%D0%B0%D1%80%D0%B5%D1%82%D0%BE\n",
    "В SciPy: https://docs.scipy.org/doc/scipy-0.18.1/reference/tutorial/stats/continuous_pareto.html"
   ]
  },
  {
   "cell_type": "code",
   "execution_count": 17,
   "metadata": {
    "collapsed": false
   },
   "outputs": [],
   "source": [
    "import pandas as pd\n",
    "import numpy as np\n",
    "import matplotlib.pyplot as plt\n",
    "import scipy.stats as sts\n",
    "import math\n",
    "%matplotlib inline"
   ]
  },
  {
   "cell_type": "code",
   "execution_count": 47,
   "metadata": {
    "collapsed": false
   },
   "outputs": [],
   "source": [
    "#Генерируем выборку\n",
    "b = 2.5\n",
    "raspr = sts.pareto(b)\n",
    "sample = raspr.rvs(1000)"
   ]
  },
  {
   "cell_type": "code",
   "execution_count": 3,
   "metadata": {
    "collapsed": false
   },
   "outputs": [
    {
     "data": {
      "text/plain": [
       "<matplotlib.text.Text at 0x7909510>"
      ]
     },
     "execution_count": 3,
     "metadata": {},
     "output_type": "execute_result"
    },
    {
     "data": {
      "image/png": "[encoded data removed]",
      "text/plain": [
       "<matplotlib.figure.Figure at 0x78ed7b0>"
      ]
     },
     "metadata": {},
     "output_type": "display_data"
    }
   ],
   "source": [
    "#Теоретическая плотность распределения (probability density function)\n",
    "x = np.linspace(sts.pareto.ppf(0.01, b), sts.pareto.ppf(0.99, b), 100)\n",
    "plt.plot(x, sts.pareto.pdf(x, b))\n",
    "#Гистограмма выборки\n",
    "plt.hist(sample, normed=1)\n",
    "plt.xlabel('$x$')"
   ]
  },
  {
   "cell_type": "code",
   "execution_count": 79,
   "metadata": {
    "collapsed": false
   },
   "outputs": [],
   "source": [
    "i=1\n",
    "list5 = []\n",
    "while i<=1000:\n",
    "    list5.append(raspr.rvs(5))\n",
    "    i+=1\n",
    "i=1\n",
    "list10 = []\n",
    "while i<=1000:\n",
    "    list10.append(raspr.rvs(10))\n",
    "    i+=1\n",
    "i=1\n",
    "list50 = []\n",
    "while i<=1000:\n",
    "    list50.append(raspr.rvs(50))\n",
    "    i+=1\n",
    "    \n",
    "i=1\n",
    "list100 = []\n",
    "while i<=1000:\n",
    "    list100.append(raspr.rvs(100))\n",
    "    i+=1\n",
    "    \n",
    "i=1\n",
    "list200 = []\n",
    "while i<=1000:\n",
    "    list200.append(raspr.rvs(200))\n",
    "    i+=1"
   ]
  },
  {
   "cell_type": "markdown",
   "metadata": {
    "collapsed": true
   },
   "source": [
    "Математическое ожидание: $b / (b-1)$, если b>1;\n",
    "Дисперсия: $b/(((b-1)^2)*(b-2))$, если b>2"
   ]
  },
  {
   "cell_type": "code",
   "execution_count": 52,
   "metadata": {
    "collapsed": false
   },
   "outputs": [],
   "source": [
    "def MO(b):\n",
    "    return b/(b-1)\n",
    "def D(b):\n",
    "    return (b/(((b-1)**2)*(b-2)))"
   ]
  },
  {
   "cell_type": "markdown",
   "metadata": {},
   "source": [
    "## Гистограммы распределений их выборочных средних (distribution of sample means) "
   ]
  },
  {
   "cell_type": "code",
   "execution_count": 74,
   "metadata": {
    "collapsed": false
   },
   "outputs": [
    {
     "data": {
      "text/plain": [
       "<matplotlib.text.Text at 0xd19da90>"
      ]
     },
     "execution_count": 74,
     "metadata": {},
     "output_type": "execute_result"
    },
    {
     "data": {
      "image/png": "[encoded data removed]",
      "text/plain": [
       "<matplotlib.figure.Figure at 0xc492390>"
      ]
     },
     "metadata": {},
     "output_type": "display_data"
    }
   ],
   "source": [
    "means = []\n",
    "for element in list5:\n",
    "    i=0\n",
    "    sum=0.\n",
    "    while i<=4:\n",
    "        sum = sum + element[i]\n",
    "        i += 1\n",
    "    means.append(sum/5)\n",
    "plt.hist(means, bins=20,normed=1)   \n",
    "\n",
    "x = np.linspace(0,6,100)\n",
    "pdf = sts.norm.pdf(x, MO(b), math.sqrt((D(b)/5)))\n",
    "plt.plot(x, pdf)\n",
    "plt.legend()\n",
    "plt.ylabel('$f(x)$')\n",
    "plt.xlabel('$x$')"
   ]
  },
  {
   "cell_type": "code",
   "execution_count": 75,
   "metadata": {
    "collapsed": false
   },
   "outputs": [
    {
     "data": {
      "text/plain": [
       "<matplotlib.text.Text at 0xd434910>"
      ]
     },
     "execution_count": 75,
     "metadata": {},
     "output_type": "execute_result"
    },
    {
     "data": {
      "image/png": "[encoded data removed]",
      "text/plain": [
       "<matplotlib.figure.Figure at 0xbe0a250>"
      ]
     },
     "metadata": {},
     "output_type": "display_data"
    }
   ],
   "source": [
    "means = []\n",
    "for element in list10:\n",
    "    i=0\n",
    "    sum=0.\n",
    "    while i<=9:\n",
    "        sum = sum + element[i]\n",
    "        i += 1\n",
    "    means.append(sum/10)\n",
    "plt.hist(means, bins=20, normed=1)  \n",
    "\n",
    "x = np.linspace(0,6,100)\n",
    "pdf = sts.norm.pdf(x, MO(b), math.sqrt((D(b)/10)))\n",
    "plt.plot(x, pdf)\n",
    "plt.legend()\n",
    "plt.ylabel('$f(x)$')\n",
    "plt.xlabel('$x$')"
   ]
  },
  {
   "cell_type": "code",
   "execution_count": 76,
   "metadata": {
    "collapsed": false
   },
   "outputs": [
    {
     "data": {
      "text/plain": [
       "<matplotlib.text.Text at 0xd726b10>"
      ]
     },
     "execution_count": 76,
     "metadata": {},
     "output_type": "execute_result"
    },
    {
     "data": {
      "image/png": "[encoded data removed]",
      "text/plain": [
       "<matplotlib.figure.Figure at 0xd6da8f0>"
      ]
     },
     "metadata": {},
     "output_type": "display_data"
    }
   ],
   "source": [
    "means = []\n",
    "for element in list50:\n",
    "    i=0\n",
    "    sum=0.\n",
    "    while i<=49:\n",
    "        sum = sum + element[i]\n",
    "        i += 1\n",
    "    means.append(sum/50)\n",
    "plt.hist(means, bins=20,normed=1)\n",
    "\n",
    "x = np.linspace(0,6,100)\n",
    "pdf = sts.norm.pdf(x, MO(b), math.sqrt((D(b)/50)))\n",
    "plt.plot(x, pdf)\n",
    "plt.legend()\n",
    "plt.ylabel('$f(x)$')\n",
    "plt.xlabel('$x$')"
   ]
  },
  {
   "cell_type": "code",
   "execution_count": 82,
   "metadata": {
    "collapsed": false,
    "scrolled": true
   },
   "outputs": [
    {
     "data": {
      "text/plain": [
       "<matplotlib.text.Text at 0xdff0fd0>"
      ]
     },
     "execution_count": 82,
     "metadata": {},
     "output_type": "execute_result"
    },
    {
     "data": {
      "image/png": "[encoded data removed]",
      "text/plain": [
       "<matplotlib.figure.Figure at 0xda625d0>"
      ]
     },
     "metadata": {},
     "output_type": "display_data"
    }
   ],
   "source": [
    "means = []\n",
    "for element in list100:\n",
    "    i=0\n",
    "    sum=0.\n",
    "    while i<=99:\n",
    "        sum = sum + element[i]\n",
    "        i += 1\n",
    "    means.append(sum/100)\n",
    "plt.hist(means, bins=20,normed=1)\n",
    "\n",
    "x = np.linspace(1,3,100)\n",
    "pdf = sts.norm.pdf(x, MO(b), math.sqrt((D(b)/100)))\n",
    "plt.plot(x, pdf)\n",
    "plt.legend()\n",
    "plt.ylabel('$f(x)$')\n",
    "plt.xlabel('$x$')"
   ]
  },
  {
   "cell_type": "code",
   "execution_count": 83,
   "metadata": {
    "collapsed": false
   },
   "outputs": [
    {
     "data": {
      "text/plain": [
       "<matplotlib.text.Text at 0xd412e90>"
      ]
     },
     "execution_count": 83,
     "metadata": {},
     "output_type": "execute_result"
    },
    {
     "data": {
      "image/png": "[encoded data removed]",
      "text/plain": [
       "<matplotlib.figure.Figure at 0xdf83750>"
      ]
     },
     "metadata": {},
     "output_type": "display_data"
    }
   ],
   "source": [
    "means = []\n",
    "for element in list200:\n",
    "    i=0\n",
    "    sum=0.\n",
    "    while i<=199:\n",
    "        sum = sum + element[i]\n",
    "        i += 1\n",
    "    means.append(sum/200)\n",
    "plt.hist(means, bins=20,normed=1)\n",
    "\n",
    "x = np.linspace(1,3,100)\n",
    "pdf = sts.norm.pdf(x, MO(b), math.sqrt((D(b)/200)))\n",
    "plt.plot(x, pdf)\n",
    "plt.legend()\n",
    "plt.ylabel('$f(x)$')\n",
    "plt.xlabel('$x$')"
   ]
  }
 ],
 "metadata": {
  "kernelspec": {
   "display_name": "Python 2",
   "language": "python",
   "name": "python2"
  },
  "language_info": {
   "codemirror_mode": {
    "name": "ipython",
    "version": 2
   },
   "file_extension": ".py",
   "mimetype": "text/x-python",
   "name": "python",
   "nbconvert_exporter": "python",
   "pygments_lexer": "ipython2",
   "version": "2.7.13"
  }
 },
 "nbformat": 4,
 "nbformat_minor": 2
}
