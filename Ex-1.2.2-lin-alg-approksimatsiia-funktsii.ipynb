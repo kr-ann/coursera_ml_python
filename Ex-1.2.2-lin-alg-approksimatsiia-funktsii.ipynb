{
 "cells": [
  {
   "cell_type": "code",
   "execution_count": 1,
   "metadata": {
    "collapsed": true
   },
   "outputs": [],
   "source": [
    "import numpy as np"
   ]
  },
  {
   "cell_type": "code",
   "execution_count": 60,
   "metadata": {
    "collapsed": true
   },
   "outputs": [],
   "source": [
    "import matplotlib.pylab as plt"
   ]
  },
  {
   "cell_type": "code",
   "execution_count": 3,
   "metadata": {
    "collapsed": true
   },
   "outputs": [],
   "source": [
    "from scipy import interpolate"
   ]
  },
  {
   "cell_type": "code",
   "execution_count": 4,
   "metadata": {
    "collapsed": true
   },
   "outputs": [],
   "source": [
    "from scipy import linalg "
   ]
  },
  {
   "cell_type": "code",
   "execution_count": 13,
   "metadata": {
    "collapsed": true
   },
   "outputs": [],
   "source": [
    "from math import *"
   ]
  },
  {
   "cell_type": "code",
   "execution_count": 80,
   "metadata": {
    "collapsed": true
   },
   "outputs": [],
   "source": [
    "def f(x):\n",
    "   return  (np.sin(x / 5) * np.exp(x / 10) + 5 * np.exp(-x / 2))"
   ]
  },
  {
   "cell_type": "markdown",
   "metadata": {},
   "source": [
    "## многочлен первой степени"
   ]
  },
  {
   "cell_type": "code",
   "execution_count": 35,
   "metadata": {
    "collapsed": true
   },
   "outputs": [],
   "source": [
    "x = np.array([1. , 15.])"
   ]
  },
  {
   "cell_type": "code",
   "execution_count": 42,
   "metadata": {
    "collapsed": false
   },
   "outputs": [
    {
     "name": "stdout",
     "output_type": "stream",
     "text": [
      "[[  1.   1.]\n",
      " [  1.  15.]]\n"
     ]
    }
   ],
   "source": [
    "coeff = np.array([[1. , x[0]] , [1. , x[1]]])\n",
    "print coeff"
   ]
  },
  {
   "cell_type": "code",
   "execution_count": 81,
   "metadata": {
    "collapsed": false
   },
   "outputs": [
    {
     "name": "stdout",
     "output_type": "stream",
     "text": [
      "[[ 3.25221687]\n",
      " [ 0.63522142]]\n"
     ]
    }
   ],
   "source": [
    "b = np.array([[f(x[0])], [f(x[1])]])\n",
    "print b"
   ]
  },
  {
   "cell_type": "code",
   "execution_count": 48,
   "metadata": {
    "collapsed": false
   },
   "outputs": [
    {
     "name": "stdout",
     "output_type": "stream",
     "text": [
      "[[ 3.43914511]\n",
      " [-0.18692825]]\n"
     ]
    }
   ],
   "source": [
    "v = linalg.solve(coeff, b)\n",
    "print v"
   ]
  },
  {
   "cell_type": "code",
   "execution_count": 49,
   "metadata": {
    "collapsed": false
   },
   "outputs": [
    {
     "name": "stdout",
     "output_type": "stream",
     "text": [
      "[[ 3.25221687]\n",
      " [ 0.63522142]]\n"
     ]
    }
   ],
   "source": [
    "print np.dot(coeff,v)"
   ]
  },
  {
   "cell_type": "code",
   "execution_count": 74,
   "metadata": {
    "collapsed": true
   },
   "outputs": [],
   "source": [
    "def f2(x):\n",
    "    return (v[0]+v[1]*x)"
   ]
  },
  {
   "cell_type": "code",
   "execution_count": 86,
   "metadata": {
    "collapsed": false
   },
   "outputs": [
    {
     "data": {
      "image/png": "[encoded data removed]",
      "text/plain": [
       "<matplotlib.figure.Figure at 0x949b2d0>"
      ]
     },
     "metadata": {},
     "output_type": "display_data"
    }
   ],
   "source": [
    "x1 = np.arange(1,16,0.5)\n",
    "plt.plot(x1, f(x1), x1, f2(x1))\n",
    "plt.show()"
   ]
  },
  {
   "cell_type": "markdown",
   "metadata": {},
   "source": [
    "## второй степени"
   ]
  },
  {
   "cell_type": "code",
   "execution_count": 87,
   "metadata": {
    "collapsed": false
   },
   "outputs": [
    {
     "name": "stdout",
     "output_type": "stream",
     "text": [
      "[[ 3.25221687]\n",
      " [ 2.31617016]\n",
      " [ 0.63522142]]\n",
      "[[ 3.25221687]\n",
      " [ 2.31617016]\n",
      " [ 0.63522142]]\n"
     ]
    }
   ],
   "source": [
    "x = np.array([1. , 8., 15.])\n",
    "coeff = np.array([[1. , x[0], x[0]**2] , [1. , x[1], x[1]**2], [1, x[2], x[2]**2]])\n",
    "b = np.array([[f(x[0])], [f(x[1])], [f(x[2])]])\n",
    "print b\n",
    "v = linalg.solve(coeff, b)\n",
    "print np.dot(coeff,v)"
   ]
  },
  {
   "cell_type": "code",
   "execution_count": 88,
   "metadata": {
    "collapsed": true
   },
   "outputs": [],
   "source": [
    "def f2(x):\n",
    "    return (v[0]+v[1]*x + v[2]*x**2)"
   ]
  },
  {
   "cell_type": "code",
   "execution_count": 89,
   "metadata": {
    "collapsed": false
   },
   "outputs": [
    {
     "data": {
      "image/png": "[encoded data removed]",
      "text/plain": [
       "<matplotlib.figure.Figure at 0x93cc6b0>"
      ]
     },
     "metadata": {},
     "output_type": "display_data"
    }
   ],
   "source": [
    "plt.plot(x1, f(x1), x1, f2(x1))\n",
    "plt.show()"
   ]
  },
  {
   "cell_type": "markdown",
   "metadata": {},
   "source": [
    "## третьей степени"
   ]
  },
  {
   "cell_type": "code",
   "execution_count": 91,
   "metadata": {
    "collapsed": false
   },
   "outputs": [
    {
     "name": "stdout",
     "output_type": "stream",
     "text": [
      "[[ 3.25221687]\n",
      " [ 1.74684595]\n",
      " [ 2.50541641]\n",
      " [ 0.63522142]]\n",
      "[[ 3.25221687]\n",
      " [ 1.74684595]\n",
      " [ 2.50541641]\n",
      " [ 0.63522142]]\n"
     ]
    }
   ],
   "source": [
    "x = np.array([1. , 4., 10., 15.])\n",
    "coeff = np.array([[1. , x[0], x[0]**2, x[0]**3] , [1. , x[1], x[1]**2, x[1]**3], [1, x[2], x[2]**2, x[2]**3], [1, x[3], x[3]**2, x[3]**3]])\n",
    "b = np.array([[f(x[0])], [f(x[1])], [f(x[2])], [f(x[3])]])\n",
    "print b\n",
    "v = linalg.solve(coeff, b)\n",
    "print np.dot(coeff,v)"
   ]
  },
  {
   "cell_type": "code",
   "execution_count": 92,
   "metadata": {
    "collapsed": true
   },
   "outputs": [],
   "source": [
    "def f2(x):\n",
    "    return (v[0]+v[1]*x + v[2]*x**2 + v[3]*x**3)"
   ]
  },
  {
   "cell_type": "code",
   "execution_count": 93,
   "metadata": {
    "collapsed": false
   },
   "outputs": [
    {
     "data": {
      "image/png": "[encoded data removed]",
      "text/plain": [
       "<matplotlib.figure.Figure at 0x96b43f0>"
      ]
     },
     "metadata": {},
     "output_type": "display_data"
    }
   ],
   "source": [
    "plt.plot(x1, f(x1), x1, f2(x1))\n",
    "plt.show()"
   ]
  }
 ],
 "metadata": {
  "kernelspec": {
   "display_name": "Python 2",
   "language": "python",
   "name": "python2"
  },
  "language_info": {
   "codemirror_mode": {
    "name": "ipython",
    "version": 2
   },
   "file_extension": ".py",
   "mimetype": "text/x-python",
   "name": "python",
   "nbconvert_exporter": "python",
   "pygments_lexer": "ipython2",
   "version": "2.7.13"
  }
 },
 "nbformat": 4,
 "nbformat_minor": 2
}
